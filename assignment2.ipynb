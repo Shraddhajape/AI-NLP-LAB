{
 "cells": [
  {
   "cell_type": "code",
   "execution_count": 1,
   "metadata": {},
   "outputs": [
    {
     "name": "stdout",
     "output_type": "stream",
     "text": [
      "Collecting gensim\n",
      "  Downloading gensim-4.3.3-cp312-cp312-win_amd64.whl.metadata (8.2 kB)\n",
      "Requirement already satisfied: numpy<2.0,>=1.18.5 in c:\\users\\hp\\appdata\\local\\programs\\python\\python312\\lib\\site-packages (from gensim) (1.26.4)\n",
      "Requirement already satisfied: scipy<1.14.0,>=1.7.0 in c:\\users\\hp\\appdata\\local\\programs\\python\\python312\\lib\\site-packages (from gensim) (1.12.0)\n",
      "Requirement already satisfied: smart-open>=1.8.1 in c:\\users\\hp\\appdata\\local\\programs\\python\\python312\\lib\\site-packages (from gensim) (7.0.4)\n",
      "Requirement already satisfied: wrapt in c:\\users\\hp\\appdata\\local\\programs\\python\\python312\\lib\\site-packages (from smart-open>=1.8.1->gensim) (1.16.0)\n",
      "Downloading gensim-4.3.3-cp312-cp312-win_amd64.whl (24.0 MB)\n",
      "   ---------------------------------------- 0.0/24.0 MB ? eta -:--:--\n",
      "   - -------------------------------------- 0.8/24.0 MB 5.6 MB/s eta 0:00:05\n",
      "   --- ------------------------------------ 2.4/24.0 MB 6.4 MB/s eta 0:00:04\n",
      "   ----- ---------------------------------- 3.4/24.0 MB 6.1 MB/s eta 0:00:04\n",
      "   ------- -------------------------------- 4.7/24.0 MB 5.9 MB/s eta 0:00:04\n",
      "   ---------- ----------------------------- 6.0/24.0 MB 6.1 MB/s eta 0:00:03\n",
      "   ------------ --------------------------- 7.3/24.0 MB 6.1 MB/s eta 0:00:03\n",
      "   -------------- ------------------------- 8.7/24.0 MB 6.2 MB/s eta 0:00:03\n",
      "   ---------------- ----------------------- 10.0/24.0 MB 6.2 MB/s eta 0:00:03\n",
      "   ------------------ --------------------- 11.3/24.0 MB 6.2 MB/s eta 0:00:03\n",
      "   --------------------- ------------------ 12.8/24.0 MB 6.2 MB/s eta 0:00:02\n",
      "   ----------------------- ---------------- 14.2/24.0 MB 6.3 MB/s eta 0:00:02\n",
      "   ------------------------- -------------- 15.5/24.0 MB 6.3 MB/s eta 0:00:02\n",
      "   --------------------------- ------------ 16.8/24.0 MB 6.3 MB/s eta 0:00:02\n",
      "   ------------------------------ --------- 18.4/24.0 MB 6.3 MB/s eta 0:00:01\n",
      "   -------------------------------- ------- 19.7/24.0 MB 6.3 MB/s eta 0:00:01\n",
      "   ---------------------------------- ----- 21.0/24.0 MB 6.3 MB/s eta 0:00:01\n",
      "   ------------------------------------- -- 22.3/24.0 MB 6.3 MB/s eta 0:00:01\n",
      "   ---------------------------------------  23.6/24.0 MB 6.3 MB/s eta 0:00:01\n",
      "   ---------------------------------------- 24.0/24.0 MB 6.2 MB/s eta 0:00:00\n",
      "Installing collected packages: gensim\n",
      "Successfully installed gensim-4.3.3\n",
      "Note: you may need to restart the kernel to use updated packages.\n"
     ]
    }
   ],
   "source": [
    "pip install gensim"
   ]
  },
  {
   "cell_type": "code",
   "execution_count": 3,
   "metadata": {},
   "outputs": [],
   "source": [
    "import os\n",
    "import gensim\n"
   ]
  },
  {
   "cell_type": "code",
   "execution_count": 4,
   "metadata": {},
   "outputs": [],
   "source": [
    "document = open('doc.txt',encoding='utf-8')"
   ]
  },
  {
   "cell_type": "code",
   "execution_count": 7,
   "metadata": {},
   "outputs": [],
   "source": [
    "from gensim.utils import simple_preprocess\n",
    "from gensim import corpora\n"
   ]
  },
  {
   "cell_type": "code",
   "execution_count": 11,
   "metadata": {},
   "outputs": [
    {
     "name": "stdout",
     "output_type": "stream",
     "text": [
      "The dictionary has: 29 tokens\n",
      "\n",
      "{'Gensim': 0, 'Python': 1, 'a': 2, 'algorithms.': 3, 'and': 4, 'as': 5, 'designed': 6, 'digital': 7, 'documents': 8, 'efficiently': 9, 'for': 10, 'free': 11, 'is': 12, 'learning': 13, 'library': 14, 'machine': 15, 'open-source': 16, 'painlessly': 17, 'possible.': 18, 'process': 19, 'raw,': 20, 'representing': 21, 'semantic': 22, 'texts': 23, 'to': 24, 'unstructured': 25, 'unsupervised': 26, 'using': 27, 'vectors,': 28}\n"
     ]
    }
   ],
   "source": [
    "text1 = [\"\"\"Gensim is a free open-source Python library for representing documents as semantic vectors,\n",
    "           as efficiently and painlessly as possible. Gensim is designed \n",
    "           to process raw, unstructured digital texts using unsupervised machine learning algorithms.\"\"\"]\n",
    "\n",
    "tokens1 = [[item for item in line.split()] for line in text1]\n",
    "g_dict1 = corpora.Dictionary(tokens1)\n",
    "\n",
    "print(\"The dictionary has: \" +str(len(g_dict1)) + \" tokens\\n\")\n",
    "print(g_dict1.token2id)"
   ]
  },
  {
   "cell_type": "code",
   "execution_count": 12,
   "metadata": {},
   "outputs": [
    {
     "name": "stdout",
     "output_type": "stream",
     "text": [
      "Bag of Words :  [[(0, 2), (1, 1), (2, 1), (3, 1), (4, 1), (5, 3), (6, 1), (7, 1), (8, 1), (9, 1), (10, 1), (11, 1), (12, 2), (13, 1), (14, 1), (15, 1), (16, 1), (17, 1), (18, 1), (19, 1), (20, 1), (21, 1), (22, 1), (23, 1), (24, 1), (25, 1), (26, 1), (27, 1), (28, 1)]]\n"
     ]
    }
   ],
   "source": [
    "g_bow =[g_dict1.doc2bow(token, allow_update = True) for token in tokens1]\n",
    "print(\"Bag of Words : \", g_bow)"
   ]
  },
  {
   "cell_type": "code",
   "execution_count": 13,
   "metadata": {},
   "outputs": [],
   "source": [
    "# Save the Dictionary and BOW\n",
    "g_dict1.save('./g_dict1.dict') \n",
    "corpora.MmCorpus.serialize('./g_bow1.mm', g_bow)  \n",
    "\n",
    "# Load the Dictionary and BOW\n",
    "g_dict_load = corpora.Dictionary.load('./g_dict1.dict')\n",
    "g_bow_load = corpora.MmCorpus('./g_bow1.mm')"
   ]
  },
  {
   "cell_type": "code",
   "execution_count": 20,
   "metadata": {},
   "outputs": [],
   "source": [
    "from gensim.models import TfidfModel\n",
    "import numpy as np"
   ]
  },
  {
   "cell_type": "code",
   "execution_count": 21,
   "metadata": {},
   "outputs": [
    {
     "name": "stdout",
     "output_type": "stream",
     "text": [
      "Dictionary : \n",
      "[['Gensim', 2], ['Python', 1], ['a', 1], ['algorithms.', 1], ['and', 1], ['as', 3], ['designed', 1], ['digital', 1], ['documents', 1], ['efficiently', 1], ['for', 1], ['free', 1], ['is', 2], ['learning', 1], ['library', 1], ['machine', 1], ['open-source', 1], ['painlessly', 1], ['possible.', 1], ['process', 1], ['raw,', 1], ['representing', 1], ['semantic', 1], ['texts', 1], ['to', 1], ['unstructured', 1], ['unsupervised', 1], ['using', 1], ['vectors,', 1]]\n",
      "TF-IDF Vector:\n",
      "[['Gensim', 0.3], ['Python', 0.15], ['a', 0.15], ['algorithms.', 0.15], ['and', 0.15], ['as', 0.46], ['designed', 0.15], ['digital', 0.15], ['documents', 0.15], ['efficiently', 0.15], ['for', 0.15], ['free', 0.15], ['is', 0.3], ['learning', 0.15], ['library', 0.15], ['machine', 0.15], ['open-source', 0.15], ['painlessly', 0.15], ['possible.', 0.15], ['process', 0.15], ['raw,', 0.15], ['representing', 0.15], ['semantic', 0.15], ['texts', 0.15], ['to', 0.15], ['unstructured', 0.15], ['unsupervised', 0.15], ['using', 0.15], ['vectors,', 0.15]]\n"
     ]
    }
   ],
   "source": [
    "\n",
    "print(\"Dictionary : \")\n",
    "for item in g_bow:\n",
    "    print([[g_dict1[id], freq] for id, freq in item])\n",
    "\n",
    "g_tfidf = TfidfModel(g_bow, smartirs='ntc')\n",
    "\n",
    "print(\"TF-IDF Vector:\")\n",
    "for item in g_tfidf[g_bow]:\n",
    "    print([[g_dict1[id], np.around(freq, decimals=2)] for id, freq in item])"
   ]
  }
 ],
 "metadata": {
  "kernelspec": {
   "display_name": "Python 3",
   "language": "python",
   "name": "python3"
  },
  "language_info": {
   "codemirror_mode": {
    "name": "ipython",
    "version": 3
   },
   "file_extension": ".py",
   "mimetype": "text/x-python",
   "name": "python",
   "nbconvert_exporter": "python",
   "pygments_lexer": "ipython3",
   "version": "3.12.1"
  }
 },
 "nbformat": 4,
 "nbformat_minor": 2
}
